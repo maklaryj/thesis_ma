{
 "cells": [
  {
   "cell_type": "code",
   "execution_count": null,
   "metadata": {},
   "outputs": [],
   "source": [
    "import pandas as pd\n",
    "\n",
    "data = pd.read_csv('research_abstract_labeled.csv', sep=\";\", encoding='cp1252')\n",
    "\n",
    "formula_titles = data[data.text.str.contains('$', regex=False, na=False)].drop_duplicates(subset=['title'], keep='first').title.tolist()\n",
    "\n",
    "filtered = data[data.title.isin(formula_titles) != True]"
   ]
  },
  {
   "cell_type": "code",
   "execution_count": null,
   "metadata": {},
   "outputs": [
    {
     "name": "stderr",
     "output_type": "stream",
     "text": [
      "c:\\Users\\User\\Documents\\egyetem\\szakdolgozat\\venv311\\Lib\\site-packages\\huggingface_hub\\file_download.py:797: FutureWarning: `resume_download` is deprecated and will be removed in version 1.0.0. Downloads always resume when possible. If you want to force a new download, use `force_download=True`.\n",
      "  warnings.warn(\n",
      "Processing: 100%|██████████| 400/400 [9:09:49<00:00, 82.47s/it]  \n",
      "C:\\Users\\User\\AppData\\Local\\Temp\\ipykernel_12408\\3336366991.py:51: SettingWithCopyWarning: \n",
      "A value is trying to be set on a copy of a slice from a DataFrame.\n",
      "Try using .loc[row_indexer,col_indexer] = value instead\n",
      "\n",
      "See the caveats in the documentation: https://pandas.pydata.org/pandas-docs/stable/user_guide/indexing.html#returning-a-view-versus-a-copy\n",
      "  filtered[\"ai_probability\"] = all_probs\n"
     ]
    }
   ],
   "source": [
    "import pandas as pd\n",
    "from generated_text_detector.utils.model.roberta_classifier import RobertaClassifier\n",
    "from generated_text_detector.utils.preprocessing import preprocessing_text\n",
    "from transformers import AutoTokenizer\n",
    "import torch.nn.functional as F\n",
    "import torch\n",
    "from tqdm import tqdm\n",
    "\n",
    "# Load model and tokenizer\n",
    "model = RobertaClassifier.from_pretrained(\"SuperAnnotate/ai-detector\")\n",
    "tokenizer = AutoTokenizer.from_pretrained(\"SuperAnnotate/ai-detector\")\n",
    "model.eval()\n",
    "\n",
    "# Device setup\n",
    "device = torch.device(\"cuda\" if torch.cuda.is_available() else \"cpu\")\n",
    "model.to(device)\n",
    "\n",
    "# Assume `data` is your DataFrame with a column named \"text\"\n",
    "# Parameters\n",
    "batch_size = 32 \n",
    "texts = filtered[\"text\"].tolist()\n",
    "all_probs = []\n",
    "\n",
    "# Process in batches\n",
    "for i in tqdm(range(0, len(texts), batch_size), desc=\"Processing\"):\n",
    "    batch_texts = texts[i:i + batch_size]\n",
    "    \n",
    "    # Preprocess and tokenize all in batch\n",
    "    preprocessed = [preprocessing_text(t) for t in batch_texts]\n",
    "\n",
    "    tokens = tokenizer(\n",
    "        preprocessed,\n",
    "        add_special_tokens=True,\n",
    "        max_length=512,\n",
    "        padding=True,\n",
    "        truncation=True,\n",
    "        return_token_type_ids=True,\n",
    "        return_tensors=\"pt\"\n",
    "    )\n",
    "\n",
    "    # Move tokens to device\n",
    "    tokens = {key: val.to(device) for key, val in tokens.items()}\n",
    "\n",
    "    with torch.no_grad():\n",
    "        _, logits = model(**tokens)\n",
    "        probs = F.sigmoid(logits).squeeze(1).tolist()\n",
    "\n",
    "    all_probs.extend(probs)\n",
    "\n",
    "# Add probabilities to DataFrame\n",
    "filtered[\"ai_probability\"] = all_probs\n"
   ]
  },
  {
   "cell_type": "code",
   "execution_count": null,
   "metadata": {},
   "outputs": [],
   "source": [
    "#filtered.to_csv('szakdolgozat_detector.csv')"
   ]
  }
 ],
 "metadata": {
  "kernelspec": {
   "display_name": "venv311",
   "language": "python",
   "name": "python3"
  },
  "language_info": {
   "codemirror_mode": {
    "name": "ipython",
    "version": 3
   },
   "file_extension": ".py",
   "mimetype": "text/x-python",
   "name": "python",
   "nbconvert_exporter": "python",
   "pygments_lexer": "ipython3",
   "version": "3.11.0"
  }
 },
 "nbformat": 4,
 "nbformat_minor": 2
}
